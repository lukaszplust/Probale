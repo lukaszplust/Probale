{
  "nbformat": 4,
  "nbformat_minor": 0,
  "metadata": {
    "colab": {
      "provenance": [],
      "authorship_tag": "ABX9TyMAfmzkfRuRgB5oUeg9NRr3",
      "include_colab_link": true
    },
    "kernelspec": {
      "name": "python3",
      "display_name": "Python 3"
    },
    "language_info": {
      "name": "python"
    }
  },
  "cells": [
    {
      "cell_type": "markdown",
      "metadata": {
        "id": "view-in-github",
        "colab_type": "text"
      },
      "source": [
        "<a href=\"https://colab.research.google.com/github/lukaszplust/Probale/blob/main/lab3_probale.ipynb\" target=\"_parent\"><img src=\"https://colab.research.google.com/assets/colab-badge.svg\" alt=\"Open In Colab\"/></a>"
      ]
    },
    {
      "cell_type": "code",
      "execution_count": 5,
      "metadata": {
        "id": "21eqB540-XFg"
      },
      "outputs": [],
      "source": [
        "import math\n",
        "import random\n",
        "\n",
        "\n",
        "def zad_1():\n",
        "    p = [0.2, 0.6, 0.75, 1]\n",
        "    count = [0, 0, 0, 0]\n",
        "    N = 100000\n",
        "\n",
        "    numbers = []\n",
        "    for i in range(N):\n",
        "        numbers.append(random.random())\n",
        "\n",
        "    for i in range(N):\n",
        "        if numbers[i] < p[0]:\n",
        "            count[0] += 1\n",
        "        elif numbers[i] < p[1]:\n",
        "            count[1] += 1\n",
        "        elif numbers[i] < p[2]:\n",
        "            count[2] += 1\n",
        "        elif numbers[i] < p[3]:\n",
        "            count[3] += 1\n",
        "\n",
        "    print(count)"
      ]
    },
    {
      "cell_type": "code",
      "source": [
        "def zad_2():\n",
        "    N = 100000\n",
        "    numbers = [100 * random.random() + 50 for i in range(N)]\n",
        "    p = [0, 0, 0, 0, 0, 0, 0, 0, 0, 0]\n",
        "\n",
        "    for i in range(N):\n",
        "        index = int((numbers[i] / 10) - 5)\n",
        "        p[index] += 1\n",
        "\n",
        "    print(p)"
      ],
      "metadata": {
        "id": "rPCujKhj-slu"
      },
      "execution_count": 6,
      "outputs": []
    },
    {
      "cell_type": "code",
      "source": [
        "zad_1()"
      ],
      "metadata": {
        "colab": {
          "base_uri": "https://localhost:8080/"
        },
        "id": "x1xH3drQ-vKV",
        "outputId": "689cecd0-f8ec-40bd-8193-ee855179a420"
      },
      "execution_count": 7,
      "outputs": [
        {
          "output_type": "stream",
          "name": "stdout",
          "text": [
            "[20067, 39852, 15161, 24920]\n"
          ]
        }
      ]
    },
    {
      "cell_type": "code",
      "source": [
        "zad_2()"
      ],
      "metadata": {
        "colab": {
          "base_uri": "https://localhost:8080/"
        },
        "id": "Heo2rbo7-zMF",
        "outputId": "dfb391ed-0c2d-45e2-8767-4e406917fdb2"
      },
      "execution_count": 8,
      "outputs": [
        {
          "output_type": "stream",
          "name": "stdout",
          "text": [
            "[10059, 10029, 10153, 9898, 10031, 9894, 9945, 10043, 9881, 10067]\n"
          ]
        }
      ]
    }
  ]
}