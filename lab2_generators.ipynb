{
  "nbformat": 4,
  "nbformat_minor": 0,
  "metadata": {
    "colab": {
      "provenance": [],
      "authorship_tag": "ABX9TyNzgNqeoQFYmZlFNwkGlT+T",
      "include_colab_link": true
    },
    "kernelspec": {
      "name": "python3",
      "display_name": "Python 3"
    },
    "language_info": {
      "name": "python"
    }
  },
  "cells": [
    {
      "cell_type": "markdown",
      "metadata": {
        "id": "view-in-github",
        "colab_type": "text"
      },
      "source": [
        "<a href=\"https://colab.research.google.com/github/lukaszplust/Probale/blob/main/lab2_generators.ipynb\" target=\"_parent\"><img src=\"https://colab.research.google.com/assets/colab-badge.svg\" alt=\"Open In Colab\"/></a>"
      ]
    },
    {
      "cell_type": "code",
      "execution_count": 35,
      "metadata": {
        "id": "vvMR9LXLE_la"
      },
      "outputs": [],
      "source": [
        "# 2.2\n",
        "\n",
        "# a = 69069\n",
        "# c = 1\n",
        "# X0 = 15\n",
        "# n = 100000\n",
        "# M = 2 ** 31\n",
        "# 10 * Xn / M\n",
        "\n",
        "def linear(n, M):\n",
        "  a = 69069\n",
        "  c = 1\n",
        "\n",
        "\n",
        "  Xn = 15\n",
        "\n",
        "  seq = [0, 0, 0, 0, 0, 0, 0, 0, 0, 0]#tablica do ktorej dodaje\n",
        "  #x1\n",
        "  X = (a * Xn + c) % M #wzor na generator liniowy\n",
        "\n",
        "  num = int(10 * X / M)\n",
        "  seq[num] = seq[num] +1\n",
        "\n",
        "  for j in range(1, n):\n",
        "    num = int(10 * X / M)\n",
        "    X = (a * X + c) % M\n",
        "    seq[num] = seq[num] + 1\n",
        "  return seq\n",
        "\n",
        "\n",
        "# 2.6\n",
        "\n",
        "# M = 2^31 -> ilosc bitow\n",
        "# co kazdą iterację biorę nowe 7 bitow z 7 ostatnich bitow wygenerowanego ciągu 31 bitow\n",
        "\n",
        "def sliding(n, M):\n",
        "    p = 7\n",
        "    q = 3\n",
        "    num = '1011010' #poczatkowe bity tablicy\n",
        "    seq = [0, 0, 0, 0, 0, 0, 0, 0, 0, 0]\n",
        "\n",
        "    for i in range(7, 31):\n",
        "      bit = int(num[i - p]) ^ int(num[i - q])\n",
        "      num += str(bit)\n",
        "    index = int(10 * int(num, 2) / M)\n",
        "    seq[index] = seq[index] + 1\n",
        "\n",
        "    for j in range(1, n):\n",
        "      num = num[24:]\n",
        "      for i in range(7, 31):\n",
        "          bit = int(num[i - p]) ^ int(num[i - q])\n",
        "          num += str(bit)\n",
        "      index = int(10 * int(num, 2) / M)\n",
        "      seq[index] = seq[index] + 1\n",
        "\n",
        "    return seq\n"
      ]
    },
    {
      "cell_type": "code",
      "source": [
        "#dla \n",
        "seq1 = linear(100000, 2 ** 31)\n",
        "for x in seq1:\n",
        "  print(x)"
      ],
      "metadata": {
        "colab": {
          "base_uri": "https://localhost:8080/"
        },
        "id": "kGhkfWBxFc10",
        "outputId": "528f970f-813b-4e0e-df86-81012bad6a6d"
      },
      "execution_count": 33,
      "outputs": [
        {
          "output_type": "stream",
          "name": "stdout",
          "text": [
            "10083\n",
            "9956\n",
            "9997\n",
            "9920\n",
            "10038\n",
            "9891\n",
            "10018\n",
            "10032\n",
            "10019\n",
            "10046\n"
          ]
        }
      ]
    },
    {
      "cell_type": "code",
      "source": [
        "seq2 = sliding(100000, 2 ** 31)\n",
        "for x in seq2:\n",
        "  print(x)"
      ],
      "metadata": {
        "colab": {
          "base_uri": "https://localhost:8080/"
        },
        "id": "lzhW_N93FgRk",
        "outputId": "5337da14-0d3f-49a3-f844-9a0dda1ed992"
      },
      "execution_count": 36,
      "outputs": [
        {
          "output_type": "stream",
          "name": "stdout",
          "text": [
            "9448\n",
            "10238\n",
            "9448\n",
            "11021\n",
            "9448\n",
            "10237\n",
            "10237\n",
            "10237\n",
            "9451\n",
            "10235\n"
          ]
        }
      ]
    }
  ]
}