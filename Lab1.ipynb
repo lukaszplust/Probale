{
  "nbformat": 4,
  "nbformat_minor": 0,
  "metadata": {
    "colab": {
      "provenance": [],
      "authorship_tag": "ABX9TyMWQ2dHLF3vQy7q36tFNn3M",
      "include_colab_link": true
    },
    "kernelspec": {
      "name": "python3",
      "display_name": "Python 3"
    },
    "language_info": {
      "name": "python"
    }
  },
  "cells": [
    {
      "cell_type": "markdown",
      "metadata": {
        "id": "view-in-github",
        "colab_type": "text"
      },
      "source": [
        "<a href=\"https://colab.research.google.com/github/lukaszplust/Probale/blob/main/Lab1.ipynb\" target=\"_parent\"><img src=\"https://colab.research.google.com/assets/colab-badge.svg\" alt=\"Open In Colab\"/></a>"
      ]
    },
    {
      "cell_type": "markdown",
      "source": [
        "Wariacja bez powtórzeń"
      ],
      "metadata": {
        "id": "Url_DFdob-z-"
      }
    },
    {
      "cell_type": "code",
      "execution_count": 40,
      "metadata": {
        "id": "hXvTQ3pEXYiV"
      },
      "outputs": [],
      "source": [
        "def variations(lista,m):\n",
        "  if m ==0:\n",
        "    return [[]]\n",
        "\n",
        "  result = []\n",
        "  \n",
        "  for i in range(0, len(lista)):\n",
        "    element = lista[i]\n",
        "    remains = lista[i + 1:]\n",
        "\n",
        "\n",
        "    for different_combination in variations(remains, m-1):\n",
        "      result.append([element] + different_combination)\n",
        "  return result"
      ]
    },
    {
      "cell_type": "code",
      "source": [
        "n = 5#ilosc mozliwa do wyboru\n",
        "m =3#ilosc elementow\n",
        "licznik = 0\n",
        "   \n",
        "lista_org = variations(range(1,n+1),m)\n",
        "for i in lista_org:\n",
        "  licznik = licznik + 1\n",
        "  print(i)\n",
        "print(licznik)"
      ],
      "metadata": {
        "colab": {
          "base_uri": "https://localhost:8080/"
        },
        "id": "YI4vZ3CTfQg4",
        "outputId": "7430155a-6e5b-44f5-de52-3d65344dc06a"
      },
      "execution_count": 41,
      "outputs": [
        {
          "output_type": "stream",
          "name": "stdout",
          "text": [
            "[1, 2, 3]\n",
            "[1, 2, 4]\n",
            "[1, 2, 5]\n",
            "[1, 3, 4]\n",
            "[1, 3, 5]\n",
            "[1, 4, 5]\n",
            "[2, 3, 4]\n",
            "[2, 3, 5]\n",
            "[2, 4, 5]\n",
            "[3, 4, 5]\n",
            "10\n"
          ]
        }
      ]
    }
  ]
}