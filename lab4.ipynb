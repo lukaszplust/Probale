{
  "nbformat": 4,
  "nbformat_minor": 0,
  "metadata": {
    "colab": {
      "provenance": [],
      "authorship_tag": "ABX9TyOZyY272SE+Sv+CNO3yoCNO",
      "include_colab_link": true
    },
    "kernelspec": {
      "name": "python3",
      "display_name": "Python 3"
    },
    "language_info": {
      "name": "python"
    }
  },
  "cells": [
    {
      "cell_type": "markdown",
      "metadata": {
        "id": "view-in-github",
        "colab_type": "text"
      },
      "source": [
        "<a href=\"https://colab.research.google.com/github/lukaszplust/Probale/blob/main/lab4.ipynb\" target=\"_parent\"><img src=\"https://colab.research.google.com/assets/colab-badge.svg\" alt=\"Open In Colab\"/></a>"
      ]
    },
    {
      "cell_type": "code",
      "execution_count": 1,
      "metadata": {
        "colab": {
          "base_uri": "https://localhost:8080/"
        },
        "id": "OtVN7rwWohyW",
        "outputId": "fb03e6c9-4f98-4bd5-cb41-cb8e42b352f0"
      },
      "outputs": [
        {
          "output_type": "stream",
          "name": "stdout",
          "text": [
            "[0, 0, 39907, 9899]\n",
            "[0, 0, 0, 15026]\n",
            "[19953, 0, 0, 0]\n",
            "[10127, 0, 5088, 0]\n"
          ]
        }
      ],
      "source": [
        "import random\n",
        "import numpy\n",
        "\n",
        "m = numpy.array([[0, 0, 0.4, 0.1],\n",
        "                [0, 0, 0, 0.15],\n",
        "                [0.2, 0, 0, 0],\n",
        "                [0.1, 0, 0.05, 0]])\n",
        "\n",
        "\n",
        "X = sum(m[:, i] for i in range(4))\n",
        "\n",
        "\n",
        "t = [0.5, 0.65, 0.85, 1]\n",
        "\n",
        "Y = numpy.copy(m)#kopia tablicy\n",
        "\n",
        "for row in range(4):#przez kazdy wiersz od 0 do 3\n",
        "    sum = 0\n",
        "    for col in range(4):#przez kazda kolumne od 0 do 3\n",
        "        sum += m[row][col] #sumuje \n",
        "    for col in range(4):#przez kazda kolumne dziele przez sume\n",
        "        Y[row][col] = Y[row][col] / sum\n",
        "\n",
        "for row in range(4):#przez kazdy wiersz\n",
        "    for col in range(3, -1, -1):\n",
        "        if Y[row][col] > 0:\n",
        "            sum = 0\n",
        "            for i in range(col):\n",
        "                sum+= Y[row][i]\n",
        "            Y[row][col] += sum\n",
        "\n",
        "\n",
        "\n",
        "result = [[0 for x in range(4)] for x in range(4)]\n",
        "for x in range(100000):\n",
        "    rand = numpy.random.random()\n",
        "    for row in range(4):\n",
        "        if rand < t[row]:\n",
        "            rand = numpy.random.random()\n",
        "            for col in range(4):\n",
        "                if rand < Y[row][col]:\n",
        "                    result[row][col] += 1\n",
        "                    break\n",
        "            break\n",
        "\n",
        "for y in result:\n",
        "    print(y)"
      ]
    },
    {
      "cell_type": "code",
      "source": [],
      "metadata": {
        "id": "VhwwnF-asmV7"
      },
      "execution_count": null,
      "outputs": []
    }
  ]
}